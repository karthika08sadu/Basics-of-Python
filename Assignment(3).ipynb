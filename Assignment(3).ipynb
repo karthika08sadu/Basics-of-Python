{
 "cells": [
  {
   "cell_type": "markdown",
   "id": "1c95acfa-fe41-452f-a92d-ff77469c6114",
   "metadata": {},
   "source": [
    "## Prime numbers"
   ]
  },
  {
   "cell_type": "code",
   "execution_count": 45,
   "id": "7f9618f7-729f-4be3-b2be-7f6a64658e52",
   "metadata": {},
   "outputs": [
    {
     "name": "stdin",
     "output_type": "stream",
     "text": [
      "enter a number 345\n"
     ]
    },
    {
     "data": {
      "text/plain": [
       "'The given number 345 is not prime number.'"
      ]
     },
     "execution_count": 45,
     "metadata": {},
     "output_type": "execute_result"
    }
   ],
   "source": [
    "def prime_check(n):\n",
    "    count=0 # delare variable \n",
    "    for i in range(1,n+1): # loopds from 1 to n\n",
    "        if n%i==0: # check if the given number is divisible by i\n",
    "            count+=1 # if divisible increment the count by 1\n",
    "    if count<=2: # checking if the number of dividers are less than or equal to 2\n",
    "        return f\"The given number {n} is prime number.\" # Returns if the condition saticifies\n",
    "    else: # If the count grater than 2,else will executes.\n",
    "        return f\"The given number {n} is not prime number.\"\n",
    "n=int(input(\"enter a number\")) # Takes int input from the user\n",
    "prime_check(n)\n",
    "\n",
    "\n",
    "        \n",
    "        "
   ]
  },
  {
   "cell_type": "markdown",
   "id": "ff435bfd-bab9-4626-9683-7778b4dd8311",
   "metadata": {},
   "source": [
    "## Product of Random Numbers "
   ]
  },
  {
   "cell_type": "code",
   "execution_count": 44,
   "id": "1d6c65cc-f235-4d38-bd6b-5d8a86d74d9a",
   "metadata": {},
   "outputs": [
    {
     "name": "stdin",
     "output_type": "stream",
     "text": [
      "Enter the product of 605 and 739: 57457\n"
     ]
    },
    {
     "data": {
      "text/plain": [
       "'Your answer is 57457.0 Wrong! The product of 605 and 739 is 447095.'"
      ]
     },
     "execution_count": 44,
     "metadata": {},
     "output_type": "execute_result"
    }
   ],
   "source": [
    "import random # importing the random library\n",
    "def product_check(x,y):\n",
    "    z=float(input(f\"Enter the product of {x} and {y}:\")) # To get the input from the user.\n",
    "    if z==x*y: # check the product is equal to user guessed product,if matches enter into the staement.\n",
    "        return \"Yor answer is correct\"\n",
    "    else: # If the values doesnot match it reurns the below text.\n",
    "        return f\"Your answer is {z} Wrong! The product of {x} and {y} is {x*y}.\"\n",
    "# x=random.random() # It generates the floating numbers within 0.0 and 1.0\n",
    "x=random.randint(1,1000) # To get the values in range of 1 t 1000\n",
    "# y=random.random()# It generates the floating numbers within 0.0 and 1.0\n",
    "y=random.randint(1,1000) # To get the values in range of 1 t 1000\n",
    "product_check(x,y)"
   ]
  },
  {
   "cell_type": "markdown",
   "id": "3b3686dc-9665-4a7f-a65e-fe5a803ec0ce",
   "metadata": {},
   "source": [
    "## Squares of Even/Odd Numbers"
   ]
  },
  {
   "cell_type": "code",
   "execution_count": 24,
   "id": "38896082-7a4c-468a-9375-a903b13f8b84",
   "metadata": {},
   "outputs": [
    {
     "data": {
      "text/plain": [
       "'the squares of even numbers are [10000, 10404, 10816, 11236, 11664, 12100, 12544, 12996, 13456, 13924, 14400, 14884, 15376, 15876, 16384, 16900, 17424, 17956, 18496, 19044, 19600, 20164, 20736, 21316, 21904, 22500, 23104, 23716, 24336, 24964, 25600, 26244, 26896, 27556, 28224, 28900, 29584, 30276, 30976, 31684, 32400, 33124, 33856, 34596, 35344, 36100, 36864, 37636, 38416, 39204, 40000]'"
      ]
     },
     "execution_count": 24,
     "metadata": {},
     "output_type": "execute_result"
    }
   ],
   "source": [
    "def Even_squares():\n",
    "    x=[]\n",
    "    for i in range(100,201):\n",
    "        if i%2==0:\n",
    "            x.append(i*i)\n",
    "    return f\"the squares of even numbers are:  {x}\"\n",
    "Even_squares()\n",
    "            "
   ]
  },
  {
   "cell_type": "markdown",
   "id": "90f8076d-e18a-4594-98fd-6de6175c3f16",
   "metadata": {},
   "source": [
    "## Word counter"
   ]
  },
  {
   "cell_type": "code",
   "execution_count": 31,
   "id": "d599cd1a-47df-471c-9fc5-1ff4b21d2cf0",
   "metadata": {},
   "outputs": [
    {
     "data": {
      "text/plain": [
       "{'This': 2,\n",
       " 'is': 1,\n",
       " 'a': 1,\n",
       " 'sample': 1,\n",
       " 'text.': 1,\n",
       " 'text': 1,\n",
       " 'will': 1,\n",
       " 'be': 1,\n",
       " 'used': 1,\n",
       " 'to': 1,\n",
       " 'demonstrate': 1,\n",
       " 'the': 1,\n",
       " 'word': 1,\n",
       " 'counter.': 1}"
      ]
     },
     "execution_count": 31,
     "metadata": {},
     "output_type": "execute_result"
    }
   ],
   "source": [
    "def word_counter(x): # creating function \n",
    "    m={} # defining a dictionary\n",
    "    n=x.split(\" \") # split the given text into list items ,where the text are seperated by space (' ')\n",
    "    for i in n:  # takes one by one word from the list.\n",
    "        if i in m: # check the word is in the dictionary,if there increment value count by 1\n",
    "            m[i]+=1\n",
    "        else: # if word not in the dictionary ,add new key as word and value as 1.\n",
    "            m[i]=1\n",
    "    return m\n",
    "# input_text=input(\"enter the text\") # To get the text from the user\n",
    "input_text = \"This is a sample text. This text will be used to demonstrate the word counter.\"\n",
    "word_counter(input_text)        \n",
    "        "
   ]
  },
  {
   "cell_type": "markdown",
   "id": "e26d3fcf-3193-4ae1-bb27-8d716db7a46b",
   "metadata": {},
   "source": [
    "## Check for palindrome"
   ]
  },
  {
   "cell_type": "code",
   "execution_count": 59,
   "id": "9263ebae-e628-4f39-9274-7e2a9d9d3cd6",
   "metadata": {},
   "outputs": [
    {
     "name": "stdin",
     "output_type": "stream",
     "text": [
      "enter string  racecar \n"
     ]
    },
    {
     "data": {
      "text/plain": [
       "'the given string \"racecar\" is a palindrome'"
      ]
     },
     "execution_count": 59,
     "metadata": {},
     "output_type": "execute_result"
    }
   ],
   "source": [
    "\n",
    "def is_palindrome(a):\n",
    "    if a==a[::-1]: # check the string withe reverse of he string\n",
    "        return f\"the given string \\\"{a}\\\" is a palindrome\"\n",
    "    else: # If the values does not match it returns the below output.\n",
    "        return f\"The given string \\\"{a}\\\" is not a palindrome\"\n",
    "a=input(\"enter string\").strip() # takes the input from the user.\n",
    "is_palindrome(a) # function calling\n",
    "    "
   ]
  }
 ],
 "metadata": {
  "kernelspec": {
   "display_name": "Python 3 (ipykernel)",
   "language": "python",
   "name": "python3"
  },
  "language_info": {
   "codemirror_mode": {
    "name": "ipython",
    "version": 3
   },
   "file_extension": ".py",
   "mimetype": "text/x-python",
   "name": "python",
   "nbconvert_exporter": "python",
   "pygments_lexer": "ipython3",
   "version": "3.13.2"
  }
 },
 "nbformat": 4,
 "nbformat_minor": 5
}
